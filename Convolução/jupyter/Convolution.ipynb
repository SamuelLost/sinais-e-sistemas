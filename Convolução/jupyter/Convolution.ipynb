{
 "cells": [
  {
   "cell_type": "code",
   "execution_count": 90,
   "metadata": {},
   "outputs": [],
   "source": [
    "import numpy as np\n",
    "from pylab import *\n",
    "\n",
    "def impulso(n):\n",
    "    #return 1 if n==0 else 0\n",
    "    return np.where(n==0, 1, 0)\n",
    "\n",
    "###########################################\n",
    "\n",
    "def grafico_divido(dominio, impulso, entrada, resp_impulso, sinal_conv):\n",
    "    fig, ((g1,g2),(g3,g4)) = plt.subplots(2, 2, num=10)\n",
    "    \n",
    "    g1.stem(dominio, impulso, \"k-\", \"ko\", \"k-\")\n",
    "    g1.set_title(\"$\\delta[n]$\")\n",
    "    g1.set_xlabel('n')\n",
    "\n",
    "    g2.stem(dominio, entrada, \"k-\", \"ko\", \"k-\")\n",
    "    g2.set_title(\"$x[n]$\")\n",
    "    g2.set_xlabel('n')\n",
    "\n",
    "    g3.stem(dominio, resp_impulso, \"k-\", \"ko\", \"k-\")\n",
    "    g3.set_title(\"$h[n]$\")\n",
    "    g3.set_xlabel('n')\n",
    "\n",
    "    g4.stem(dominio, sinal_conv, \"k-\", \"ko\", \"k-\")\n",
    "    g4.set_title(\"$y[n]$\")\n",
    "    g4.set_xlabel('n')\n",
    "\n",
    "    subplots_adjust(top=1.2,hspace=0.5)\n",
    "    show()    \n"
   ]
  },
  {
   "cell_type": "code",
   "execution_count": 91,
   "metadata": {},
   "outputs": [
    {
     "data": {
      "image/png": "[encoded data removed]",
      "text/plain": [
       "<Figure size 432x288 with 4 Axes>"
      ]
     },
     "metadata": {
      "needs_background": "light"
     },
     "output_type": "display_data"
    }
   ],
   "source": [
    "#Sinal de entrada\n",
    "def entrada(n):\n",
    "    return impulso(n) + impulso(n-1)\n",
    "\n",
    "#Resposta ao impulso h[n]\n",
    "def h(n):\n",
    "    return 3*impulso(n) + 3*impulso(n+1)\n",
    "\n",
    "n = np.arange(-5,7)\n",
    "y = h(n) + h(n-1) + h(n-2)+ h(n-3) + h(n-4) + h(n-5)\n",
    "\n",
    "x = entrada(n)\n",
    "resp_imp = h(n)\n",
    "delta = impulso(n)\n",
    "grafico_divido(n, delta, x, resp_imp, y)"
   ]
  }
 ],
 "metadata": {
  "interpreter": {
   "hash": "e7370f93d1d0cde622a1f8e1c04877d8463912d04d973331ad4851f04de6915a"
  },
  "kernelspec": {
   "display_name": "Python 3.8.10 64-bit",
   "language": "python",
   "name": "python3"
  },
  "language_info": {
   "codemirror_mode": {
    "name": "ipython",
    "version": 3
   },
   "file_extension": ".py",
   "mimetype": "text/x-python",
   "name": "python",
   "nbconvert_exporter": "python",
   "pygments_lexer": "ipython3",
   "version": "3.8.10"
  },
  "orig_nbformat": 4
 },
 "nbformat": 4,
 "nbformat_minor": 2
}
