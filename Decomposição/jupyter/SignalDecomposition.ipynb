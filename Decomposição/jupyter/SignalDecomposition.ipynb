{
 "cells": [
  {
   "cell_type": "code",
   "execution_count": 24,
   "metadata": {},
   "outputs": [],
   "source": [
    "from math  import *\n",
    "from numpy import * \n",
    "from pylab import * \n",
    "\n",
    "def grafico_soma(dominio, sinal):\n",
    "    fig = figure(1)\n",
    "\n",
    "    # Cria as funções a serem plotadas.\n",
    "    # Plotando o sinal par + ímpar.\n",
    "    a =  fig.add_subplot()\n",
    "    a.stem(dominio, sinal, \"k-\", \"ko\", \"k-\")\n",
    "    a.set_xlabel('n')\n",
    "    a.set_title(\"$x_{par}[n] + x_{ímpar}[n]$ \")\n",
    "    a.set_xticks(dominio)\n",
    "    plt.show()\n",
    "\n",
    "def grafico_impar(dominio, sinal):\n",
    "    fig = plt.figure(1)\n",
    "\n",
    "    # Cria as funções a serem plotadas.\n",
    "    # Plotando o sinal par + ímpar.\n",
    "    b =  fig.add_subplot()\n",
    "    b.stem(dominio, sinal, \"k-\", \"ko\", \"k-\")\n",
    "    b.set_xlabel('n')\n",
    "    b.set_title(\"$x_{ímpar}[n]$ \")\n",
    "    b.set_xticks(dominio)\n",
    "    plt.show()\n",
    "\n",
    "def grafico_par(dominio, sinal):\n",
    "    fig = plt.figure(1)\n",
    "\n",
    "    # Cria as funções a serem plotadas.\n",
    "    # Plotando o sinal par + ímpar.\n",
    "    par =  fig.add_subplot()\n",
    "    par.stem(dominio, sinal, \"k-\", \"ko\", \"k-\")\n",
    "    par.set_xlabel('n')\n",
    "    par.set_title(\"$x_{par}[n]$ \")\n",
    "    par.set_xticks(dominio)\n",
    "    plt.show()\n",
    "\n",
    "def grafico_original(dominio, sinal):\n",
    "    fig = plt.figure(1)\n",
    "\n",
    "    # Cria as funções a serem plotadas.\n",
    "    # Plotando o sinal par + ímpar.\n",
    "    original =  fig.add_subplot()\n",
    "    original.stem(dominio, sinal, \"k-\", \"ko\", \"k-\")\n",
    "    original.set_xlabel('n')\n",
    "    original.set_title(\"$x[n]$\")\n",
    "    original.set_xticks(dominio)\n",
    "    plt.show()\n",
    "\n",
    "def grafico_dividido(domino, original, par, impar):\n",
    "    \n",
    "    # Divide a janela de plotagem em quatro regiões.\n",
    "    fig, ((g1,g2),(g3,g4)) = plt.subplots(2, 2, num=10)\n",
    "\n",
    "    g1.stem(domino, original, \"k-\", \"ko\", \"k-\")\n",
    "    g1.set_title(\"$x[n]$\")\n",
    "    g1.set_xlabel('n')\n",
    "    \n",
    "    g2.stem(domino, par, \"k-\", \"ko\", \"k-\")\n",
    "    g2.set_title(\"$x_{par}[n]$\")\n",
    "    g2.set_xlabel('n')\n",
    "\n",
    "    g3.stem(domino, impar, \"k-\", \"ko\", \"k-\")\n",
    "    g3.set_title(\"$x_{ímpar}[n]$\")\n",
    "    g3.set_xlabel('n')\n",
    "\n",
    "    g4.stem(domino, (impar + par), \"k-\", \"ko\", \"k-\")\n",
    "    g4.set_title(\"$x_{ímpar}[n] + x_{par}[n]$\")\n",
    "    g4.set_xlabel('n')\n",
    "\n",
    "    subplots_adjust(top=1.2,hspace=0.5)\n",
    "    show()\n",
    "\n",
    "def expansao(dom_sinal, n0, sinal):\n",
    "    # Série numérica calculada entre o instante inicial até\n",
    "    # o instante inicial mais o tamanho do array do sinal.\n",
    "    domino = range(n0, n0 + len(sinal))\n",
    "\n",
    "    #Um array de zeros com o tamanho do dominio do sinal de entrada\n",
    "    sinal_expandido = np.zeros(len(dom_sinal))\n",
    "\n",
    "    # Extendendo o sinal, é preciso verificar se este elemento\n",
    "    # existe no domínio original através de index(n). Se existir, devemos mapeá-lo\n",
    "    # para o sinal expandido, caso contrário, a saída permanecerá zero.\n",
    "    for i, n in enumerate(dom_sinal):\n",
    "        try:\n",
    "            sinal_expandido[i] = sinal[domino.index(n)]\n",
    "        except ValueError:\n",
    "            pass\n",
    "\n",
    "    return sinal_expandido\n",
    "\n",
    "def decompor_sinal(sinal, n0):\n",
    "    #Calculando raio de intervalo para o domínio exendido\n",
    "    raio = max(abs(n0), abs(n0 + len(sinal) - 1))\n",
    "    dom_sinal = np.arange(-raio, raio+1)\n",
    "    sinal_entrada = expansao(dom_sinal, n0, sinal)\n",
    "    sinal_rebatido = sinal_entrada[::-1]\n",
    "\n",
    "    sinal_par = 0.5 * (sinal_entrada + sinal_rebatido)\n",
    "    sinal_impar = 0.5 * (sinal_entrada - sinal_rebatido)\n",
    "\n",
    "    return (dom_sinal, sinal_entrada, sinal_par, sinal_impar)\n"
   ]
  },
  {
   "cell_type": "markdown",
   "metadata": {},
   "source": [
    "# Teste 1 - Sinal ímpar\n",
    "\n",
    "### Sinal 1: $x[n] = \\sin \\left(\\dfrac{n\\pi}{2}\\right)$"
   ]
  },
  {
   "cell_type": "code",
   "execution_count": 25,
   "metadata": {},
   "outputs": [
    {
     "data": {
      "image/png": "[encoded data removed]",
      "text/plain": [
       "<Figure size 432x288 with 4 Axes>"
      ]
     },
     "metadata": {
      "needs_background": "light"
     },
     "output_type": "display_data"
    }
   ],
   "source": [
    "import numpy as np\n",
    "\n",
    "n = np.arange(-5,6)\n",
    "x = np.sin((n * np.pi)/2) #Função definida entre -5 e 5\n",
    "\n",
    "#Intervalo inicial\n",
    "n0 = n[0]\n",
    "dominio, original_expandido, par, impar = decompor_sinal(x, n0)\n",
    "grafico_dividido(dominio, original_expandido, par, impar)\n",
    "\n",
    "#Pode ser plotado separadamente \n",
    "# grafico_original(dominio, original_expandido)\n",
    "# grafico_par(dominio, par)\n",
    "# grafico_impar(dominio, impar)\n",
    "# grafico_soma(dominio, par+impar)"
   ]
  },
  {
   "cell_type": "markdown",
   "metadata": {},
   "source": [
    "## Teste 2 - Sinal par\n",
    "\n",
    "### Sinal 2: $x[n] = e^{\\cos(n\\pi)}$"
   ]
  },
  {
   "cell_type": "code",
   "execution_count": 26,
   "metadata": {},
   "outputs": [
    {
     "data": {
      "image/png": "[encoded data removed]",
      "text/plain": [
       "<Figure size 432x288 with 4 Axes>"
      ]
     },
     "metadata": {
      "needs_background": "light"
     },
     "output_type": "display_data"
    }
   ],
   "source": [
    "n = np.arange(-5,6)\n",
    "x = np.exp(np.cos(n * np.pi))\n",
    "\n",
    "n0 = n[0]\n",
    "\n",
    "dominio, original_expandido, par, impar = decompor_sinal(x, n0)\n",
    "grafico_dividido(dominio, original_expandido, par, impar)\n",
    "\n",
    "#Pode ser plotado separadamente \n",
    "# grafico_original(dominio, original_expandido)\n",
    "# grafico_par(dominio, par)\n",
    "# grafico_impar(dominio, impar)\n",
    "# grafico_soma(dominio, par+impar)"
   ]
  },
  {
   "cell_type": "markdown",
   "metadata": {},
   "source": [
    "## Teste 3 - Sinal misto\n",
    "\n",
    "### Sinal 3: $x[n] = \\sin \\left(\\dfrac{n\\pi}{2}\\right) + e^{\\cos(n\\pi)}$"
   ]
  },
  {
   "cell_type": "code",
   "execution_count": 27,
   "metadata": {},
   "outputs": [
    {
     "data": {
      "image/png": "[encoded data removed]",
      "text/plain": [
       "<Figure size 432x288 with 4 Axes>"
      ]
     },
     "metadata": {
      "needs_background": "light"
     },
     "output_type": "display_data"
    }
   ],
   "source": [
    "n = np.arange(-5,6)\n",
    "x = np.sin((n * np.pi)/2) + np.exp(np.cos(n * np.pi))\n",
    "\n",
    "n0 = n[0]\n",
    "\n",
    "dominio, original_expandido, par, impar = decompor_sinal(x, n0)\n",
    "grafico_dividido(dominio, original_expandido, par, impar)\n",
    "\n",
    "#Pode ser plotado separadamente \n",
    "# grafico_original(dominio, original_expandido)\n",
    "# grafico_par(dominio, par)\n",
    "# grafico_impar(dominio, impar)\n",
    "# grafico_soma(dominio, par+impar)"
   ]
  }
 ],
 "metadata": {
  "interpreter": {
   "hash": "e7370f93d1d0cde622a1f8e1c04877d8463912d04d973331ad4851f04de6915a"
  },
  "kernelspec": {
   "display_name": "Python 3 (ipykernel)",
   "language": "python",
   "name": "python3"
  },
  "language_info": {
   "codemirror_mode": {
    "name": "ipython",
    "version": 3
   },
   "file_extension": ".py",
   "mimetype": "text/x-python",
   "name": "python",
   "nbconvert_exporter": "python",
   "pygments_lexer": "ipython3",
   "version": "3.8.10"
  }
 },
 "nbformat": 4,
 "nbformat_minor": 2
}
